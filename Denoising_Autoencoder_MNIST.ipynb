{
  "nbformat": 4,
  "nbformat_minor": 0,
  "metadata": {
    "colab": {
      "name": "Denoising Autoencoder - MNIST",
      "provenance": [],
      "include_colab_link": true
    },
    "kernelspec": {
      "name": "python3",
      "display_name": "Python 3"
    },
    "accelerator": "GPU"
  },
  "cells": [
    {
      "cell_type": "markdown",
      "metadata": {
        "id": "view-in-github",
        "colab_type": "text"
      },
      "source": [
        "<a href=\"https://colab.research.google.com/github/gopzgopez/ece_151/blob/master/Denoising_Autoencoder_MNIST.ipynb\" target=\"_parent\"><img src=\"https://colab.research.google.com/assets/colab-badge.svg\" alt=\"Open In Colab\"/></a>"
      ]
    },
    {
      "cell_type": "code",
      "metadata": {
        "id": "QhrAY_zZ6zN6",
        "colab_type": "code",
        "colab": {}
      },
      "source": [
        "!pip install tensorflow-gpu==1.14"
      ],
      "execution_count": 0,
      "outputs": []
    },
    {
      "cell_type": "code",
      "metadata": {
        "id": "h08zKgaDBiUE",
        "colab_type": "code",
        "colab": {}
      },
      "source": [
        "import tensorflow as tf\n",
        "print(tf.__version__)"
      ],
      "execution_count": 0,
      "outputs": []
    },
    {
      "cell_type": "code",
      "metadata": {
        "id": "T03wdkLI-qiH",
        "colab_type": "code",
        "colab": {}
      },
      "source": [
        "! git clone https://github.com/baudm/ee298z.git"
      ],
      "execution_count": 0,
      "outputs": []
    },
    {
      "cell_type": "code",
      "metadata": {
        "id": "PY2Az2pw9CRt",
        "colab_type": "code",
        "colab": {}
      },
      "source": [
        "from __future__ import absolute_import\n",
        "from __future__ import division\n",
        "from __future__ import print_function\n",
        "import keras\n",
        "from keras.layers import Activation, Dense, Input\n",
        "from keras.layers import Conv2D, Flatten\n",
        "from keras.layers import Reshape, Conv2DTranspose\n",
        "from keras.models import Model\n",
        "from keras import backend as K\n",
        "from keras.datasets import mnist\n",
        "import numpy as np\n",
        "import matplotlib.pyplot as plt\n",
        "from PIL import Image\n",
        "\n",
        "from ee298z.hw2.transforms import corrupt_mnist_copy\n",
        "from ee298z.hw2.benchmark_keras import test_model"
      ],
      "execution_count": 0,
      "outputs": []
    },
    {
      "cell_type": "code",
      "metadata": {
        "id": "V51gJhf2_huB",
        "colab_type": "code",
        "colab": {}
      },
      "source": [
        "(x_train, y_train), (x_bench, y_bench) = mnist.load_data()\n",
        "x_test = x_bench\n",
        "x_train_corrupted = corrupt_mnist_copy(x_train)\n",
        "x_test_corrupted = corrupt_mnist_copy(x_test)"
      ],
      "execution_count": 0,
      "outputs": []
    },
    {
      "cell_type": "code",
      "metadata": {
        "id": "ONO6RnJbScYY",
        "colab_type": "code",
        "colab": {
          "base_uri": "https://localhost:8080/",
          "height": 282
        },
        "outputId": "2e59d996-d7f4-48f9-b572-4321750c381a"
      },
      "source": [
        "imgs = np.hstack([np.reshape(x_train[0:5],[140,28]), np.reshape(x_train_corrupted[0:5],[140,28])])\n",
        "plt.figure()\n",
        "plt.axis('off')\n",
        "plt.title('  Original  Corrupted')\n",
        "plt.imshow(imgs, interpolation='none', cmap='gray')"
      ],
      "execution_count": 4,
      "outputs": [
        {
          "output_type": "execute_result",
          "data": {
            "text/plain": [
              "<matplotlib.image.AxesImage at 0x7f011462b4e0>"
            ]
          },
          "metadata": {
            "tags": []
          },
          "execution_count": 4
        },
        {
          "output_type": "display_data",
          "data": {
            "image/png": "[encoded data removed]",
            "text/plain": [
              "<Figure size 432x288 with 1 Axes>"
            ]
          },
          "metadata": {
            "tags": []
          }
        }
      ]
    },
    {
      "cell_type": "code",
      "metadata": {
        "id": "VxtHLzhaDxP1",
        "colab_type": "code",
        "colab": {}
      },
      "source": [
        "x_train = np.reshape(x_train, [60000, 28, 28, 1])\n",
        "x_test = np.reshape(x_test, [10000, 28, 28, 1])\n",
        "x_train = x_train.astype('float32') / 255\n",
        "x_test = x_test.astype('float32') / 255\n",
        "\n",
        "x_train_corrupted = np.reshape(x_train_corrupted, [60000, 28, 28, 1])\n",
        "x_test_corrupted = np.reshape(x_test_corrupted, [10000, 28, 28, 1])\n",
        "x_train_corrupted = x_train_corrupted.astype(K.floatx()) / 255\n",
        "x_test_corrupted = x_test_corrupted.astype(K.floatx()) / 255"
      ],
      "execution_count": 0,
      "outputs": []
    },
    {
      "cell_type": "code",
      "metadata": {
        "id": "B23-PZJvCZ1u",
        "colab_type": "code",
        "outputId": "c8619473-c4b5-418f-ac33-6ae02f8732e8",
        "colab": {
          "base_uri": "https://localhost:8080/",
          "height": 89
        }
      },
      "source": [
        "print(x_train.shape)\n",
        "print(x_test.shape)\n",
        "print(x_train_corrupted.shape)\n",
        "print(x_test_corrupted.shape)"
      ],
      "execution_count": 6,
      "outputs": [
        {
          "output_type": "stream",
          "text": [
            "(60000, 28, 28, 1)\n",
            "(10000, 28, 28, 1)\n",
            "(60000, 28, 28, 1)\n",
            "(10000, 28, 28, 1)\n"
          ],
          "name": "stdout"
        }
      ]
    },
    {
      "cell_type": "code",
      "metadata": {
        "id": "3jhcAAGjGH4-",
        "colab_type": "code",
        "colab": {
          "base_uri": "https://localhost:8080/",
          "height": 341
        },
        "outputId": "84143b7e-49fe-4b35-a50a-70197dea0b63"
      },
      "source": [
        "input_shape = (28, 28, 1)\n",
        "batch_size = 32\n",
        "kernel_size = 3\n",
        "latent_dim = 16\n",
        "layer_filters = [32, 64]\n",
        "\n",
        "inputs = Input(shape=input_shape, name='encoder_input')\n",
        "x = inputs\n",
        "for filters in layer_filters:\n",
        "    x = Conv2D(filters=filters,\n",
        "               kernel_size=kernel_size,\n",
        "               strides=2,\n",
        "               activation='relu',\n",
        "               padding='same')(x)\n",
        "\n",
        "shape = K.int_shape(x)\n",
        "    \n",
        "x = Flatten()(x)\n",
        "latent = Dense(latent_dim, name='latent_vector')(x)\n",
        "\n",
        "encoder = Model(inputs, latent, name='encoder')\n",
        "encoder.summary()"
      ],
      "execution_count": 7,
      "outputs": [
        {
          "output_type": "stream",
          "text": [
            "Model: \"encoder\"\n",
            "_________________________________________________________________\n",
            "Layer (type)                 Output Shape              Param #   \n",
            "=================================================================\n",
            "encoder_input (InputLayer)   (None, 28, 28, 1)         0         \n",
            "_________________________________________________________________\n",
            "conv2d_3 (Conv2D)            (None, 14, 14, 32)        320       \n",
            "_________________________________________________________________\n",
            "conv2d_4 (Conv2D)            (None, 7, 7, 64)          18496     \n",
            "_________________________________________________________________\n",
            "flatten_2 (Flatten)          (None, 3136)              0         \n",
            "_________________________________________________________________\n",
            "latent_vector (Dense)        (None, 16)                50192     \n",
            "=================================================================\n",
            "Total params: 69,008\n",
            "Trainable params: 69,008\n",
            "Non-trainable params: 0\n",
            "_________________________________________________________________\n"
          ],
          "name": "stdout"
        }
      ]
    },
    {
      "cell_type": "code",
      "metadata": {
        "id": "p_jzhAprKWbc",
        "colab_type": "code",
        "colab": {
          "base_uri": "https://localhost:8080/",
          "height": 377
        },
        "outputId": "57bc6d80-3dc3-4cd6-bb01-0efdc0334c98"
      },
      "source": [
        "latent_inputs = Input(shape=(latent_dim,), name='decoder_input')\n",
        "x = Dense(shape[1] * shape[2] * shape[3])(latent_inputs)\n",
        "x = Reshape((shape[1], shape[2], shape[3]))(x)\n",
        "\n",
        "for filters in layer_filters[::-1]:\n",
        "    x = Conv2DTranspose(filters=filters,\n",
        "                        kernel_size=kernel_size,\n",
        "                        strides=2,\n",
        "                        activation='relu',\n",
        "                        padding='same')(x)\n",
        "    \n",
        "outputs = Conv2DTranspose(filters=1,\n",
        "                          kernel_size=kernel_size,\n",
        "                          padding='same',\n",
        "                          activation='sigmoid',\n",
        "                          name='decoder_output')(x)\n",
        "\n",
        "decoder = Model(latent_inputs, outputs, name='decoder')\n",
        "decoder.summary()"
      ],
      "execution_count": 8,
      "outputs": [
        {
          "output_type": "stream",
          "text": [
            "Model: \"decoder\"\n",
            "_________________________________________________________________\n",
            "Layer (type)                 Output Shape              Param #   \n",
            "=================================================================\n",
            "decoder_input (InputLayer)   (None, 16)                0         \n",
            "_________________________________________________________________\n",
            "dense_3 (Dense)              (None, 3136)              53312     \n",
            "_________________________________________________________________\n",
            "reshape_1 (Reshape)          (None, 7, 7, 64)          0         \n",
            "_________________________________________________________________\n",
            "conv2d_transpose_1 (Conv2DTr (None, 14, 14, 64)        36928     \n",
            "_________________________________________________________________\n",
            "conv2d_transpose_2 (Conv2DTr (None, 28, 28, 32)        18464     \n",
            "_________________________________________________________________\n",
            "decoder_output (Conv2DTransp (None, 28, 28, 1)         289       \n",
            "=================================================================\n",
            "Total params: 108,993\n",
            "Trainable params: 108,993\n",
            "Non-trainable params: 0\n",
            "_________________________________________________________________\n"
          ],
          "name": "stdout"
        }
      ]
    },
    {
      "cell_type": "code",
      "metadata": {
        "id": "XBVOrc_uLiA_",
        "colab_type": "code",
        "colab": {
          "base_uri": "https://localhost:8080/",
          "height": 325
        },
        "outputId": "3c80be56-4e4a-4412-9b79-bfad1c15a5eb"
      },
      "source": [
        "autoencoder = Model(inputs, decoder(encoder(inputs)), name='autoencoder')\n",
        "autoencoder.summary()\n",
        "autoencoder.compile(loss='mse', optimizer='adam')"
      ],
      "execution_count": 9,
      "outputs": [
        {
          "output_type": "stream",
          "text": [
            "Model: \"autoencoder\"\n",
            "_________________________________________________________________\n",
            "Layer (type)                 Output Shape              Param #   \n",
            "=================================================================\n",
            "encoder_input (InputLayer)   (None, 28, 28, 1)         0         \n",
            "_________________________________________________________________\n",
            "encoder (Model)              (None, 16)                69008     \n",
            "_________________________________________________________________\n",
            "decoder (Model)              (None, 28, 28, 1)         108993    \n",
            "=================================================================\n",
            "Total params: 178,001\n",
            "Trainable params: 178,001\n",
            "Non-trainable params: 0\n",
            "_________________________________________________________________\n",
            "WARNING:tensorflow:From /usr/local/lib/python3.6/dist-packages/keras/optimizers.py:793: The name tf.train.Optimizer is deprecated. Please use tf.compat.v1.train.Optimizer instead.\n",
            "\n"
          ],
          "name": "stdout"
        }
      ]
    },
    {
      "cell_type": "code",
      "metadata": {
        "id": "L4-x-2z3LrDs",
        "colab_type": "code",
        "colab": {
          "base_uri": "https://localhost:8080/",
          "height": 631
        },
        "outputId": "d18703cf-597f-46f7-e39e-9dbbbbbcc2d4"
      },
      "source": [
        "history = autoencoder.fit(x_train_corrupted,\n",
        "                          x_train,\n",
        "                          validation_data=(x_test_corrupted, x_test),\n",
        "                          epochs=15,\n",
        "                          batch_size=batch_size)"
      ],
      "execution_count": 10,
      "outputs": [
        {
          "output_type": "stream",
          "text": [
            "WARNING:tensorflow:From /usr/local/lib/python3.6/dist-packages/keras/backend/tensorflow_backend.py:1033: The name tf.assign_add is deprecated. Please use tf.compat.v1.assign_add instead.\n",
            "\n",
            "Train on 60000 samples, validate on 10000 samples\n",
            "Epoch 1/15\n",
            "60000/60000 [==============================] - 26s 438us/step - loss: 0.0355 - val_loss: 0.0219\n",
            "Epoch 2/15\n",
            "60000/60000 [==============================] - 24s 398us/step - loss: 0.0206 - val_loss: 0.0192\n",
            "Epoch 3/15\n",
            "60000/60000 [==============================] - 24s 397us/step - loss: 0.0186 - val_loss: 0.0181\n",
            "Epoch 4/15\n",
            "60000/60000 [==============================] - 24s 396us/step - loss: 0.0176 - val_loss: 0.0174\n",
            "Epoch 5/15\n",
            "60000/60000 [==============================] - 25s 413us/step - loss: 0.0170 - val_loss: 0.0170\n",
            "Epoch 6/15\n",
            "60000/60000 [==============================] - 24s 407us/step - loss: 0.0165 - val_loss: 0.0168\n",
            "Epoch 7/15\n",
            "60000/60000 [==============================] - 24s 400us/step - loss: 0.0162 - val_loss: 0.0164\n",
            "Epoch 8/15\n",
            "60000/60000 [==============================] - 24s 398us/step - loss: 0.0159 - val_loss: 0.0162\n",
            "Epoch 9/15\n",
            "60000/60000 [==============================] - 24s 397us/step - loss: 0.0156 - val_loss: 0.0162\n",
            "Epoch 10/15\n",
            "60000/60000 [==============================] - 24s 399us/step - loss: 0.0154 - val_loss: 0.0160\n",
            "Epoch 11/15\n",
            "60000/60000 [==============================] - 23s 387us/step - loss: 0.0153 - val_loss: 0.0160\n",
            "Epoch 12/15\n",
            "60000/60000 [==============================] - 23s 388us/step - loss: 0.0151 - val_loss: 0.0158\n",
            "Epoch 13/15\n",
            "60000/60000 [==============================] - 24s 397us/step - loss: 0.0150 - val_loss: 0.0158\n",
            "Epoch 14/15\n",
            "60000/60000 [==============================] - 23s 391us/step - loss: 0.0148 - val_loss: 0.0157\n",
            "Epoch 15/15\n",
            "60000/60000 [==============================] - 24s 393us/step - loss: 0.0147 - val_loss: 0.0158\n"
          ],
          "name": "stdout"
        }
      ]
    },
    {
      "cell_type": "code",
      "metadata": {
        "id": "dapchVRLqmBw",
        "colab_type": "code",
        "colab": {
          "base_uri": "https://localhost:8080/",
          "height": 295
        },
        "outputId": "c069b44a-a4e1-4d8a-eb02-51119712b938"
      },
      "source": [
        "plt.plot(history.history['loss'])\n",
        "plt.plot(history.history['val_loss'])\n",
        "plt.title('model loss')\n",
        "plt.ylabel('loss')\n",
        "plt.xlabel('epoch')\n",
        "plt.legend(['train', 'test'], loc='upper left')\n",
        "plt.show()"
      ],
      "execution_count": 11,
      "outputs": [
        {
          "output_type": "display_data",
          "data": {
            "image/png": "[encoded data removed]",
            "text/plain": [
              "<Figure size 432x288 with 1 Axes>"
            ]
          },
          "metadata": {
            "tags": []
          }
        }
      ]
    },
    {
      "cell_type": "code",
      "metadata": {
        "id": "00am22dZO9ob",
        "colab_type": "code",
        "colab": {
          "base_uri": "https://localhost:8080/",
          "height": 53
        },
        "outputId": "54958d4f-b385-4b0e-8c1a-f54687e3eaae"
      },
      "source": [
        "x_bench = x_bench.astype(K.floatx()) / 255.\n",
        "test_model(autoencoder, x_bench, y_bench, batch_size=100)"
      ],
      "execution_count": 12,
      "outputs": [
        {
          "output_type": "stream",
          "text": [
            "Classifier score: 94.17\n",
            "SSIM score: 90.16\n"
          ],
          "name": "stdout"
        }
      ]
    },
    {
      "cell_type": "code",
      "metadata": {
        "id": "4QMKbmaJL8kk",
        "colab_type": "code",
        "colab": {
          "base_uri": "https://localhost:8080/",
          "height": 282
        },
        "outputId": "91d279e6-c04b-43c2-ece6-5f64ed80b367"
      },
      "source": [
        "x_decoded = autoencoder.predict(x_test_corrupted)\n",
        "imgs = np.hstack([np.reshape(x_test[0:5],[140,28]), np.reshape(x_test_corrupted[0:5],[140,28]), np.reshape(x_decoded[0:5],[140,28])])\n",
        "plt.figure()\n",
        "plt.axis('off')\n",
        "plt.title('    Orig '\n",
        "          ' Corrupt '\n",
        "          'Decoded')\n",
        "plt.imshow(imgs, interpolation='none', cmap='gray')"
      ],
      "execution_count": 13,
      "outputs": [
        {
          "output_type": "execute_result",
          "data": {
            "text/plain": [
              "<matplotlib.image.AxesImage at 0x7f0110272048>"
            ]
          },
          "metadata": {
            "tags": []
          },
          "execution_count": 13
        },
        {
          "output_type": "display_data",
          "data": {
            "image/png": "[encoded data removed]",
            "text/plain": [
              "<Figure size 432x288 with 1 Axes>"
            ]
          },
          "metadata": {
            "tags": []
          }
        }
      ]
    }
  ]
}